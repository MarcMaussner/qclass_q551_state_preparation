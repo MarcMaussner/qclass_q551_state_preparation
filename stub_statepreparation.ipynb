{
 "cells": [
  {
   "cell_type": "markdown",
   "id": "1b224a0a",
   "metadata": {},
   "source": [
    "# first all in all - normal/default StatePreparation"
   ]
  },
  {
   "cell_type": "code",
   "execution_count": 2,
   "id": "40f4dd0d",
   "metadata": {},
   "outputs": [
    {
     "name": "stdout",
     "output_type": "stream",
     "text": [
      "Opening: https://platform.classiq.io/circuit/ae3ab337-47dc-4c2f-9ae6-7f5b8559b9c5?version=0.29.2\n"
     ]
    }
   ],
   "source": [
    "from classiq import Model, synthesize, show\n",
    "from classiq.builtin_functions import StatePreparation\n",
    "from classiq.builtin_functions.state_preparation import Metrics\n",
    "from classiq.builtin_functions.range_types import NonNegativeFloatRange\n",
    "\n",
    "model = Model()\n",
    "\n",
    "probabilities = (0.5, 0.1, 0.2, 0.005, 0.015, 0.12, 0.035, 0.025)\n",
    "sp_params = StatePreparation(\n",
    "    probabilities=probabilities,\n",
    "    error_metric={Metrics.KL: NonNegativeFloatRange(upper_bound=0.3)},\n",
    ")\n",
    "\n",
    "x = model.StatePreparation(sp_params)[\"OUT\"]\n",
    "\n",
    "quantum_program = synthesize(model.get_model())\n",
    "show(quantum_program)"
   ]
  },
  {
   "cell_type": "markdown",
   "id": "6897f1cf",
   "metadata": {},
   "source": [
    "# now defining my function"
   ]
  },
  {
   "cell_type": "code",
   "execution_count": 55,
   "id": "18e62b45",
   "metadata": {},
   "outputs": [],
   "source": [
    "from classiq import QStruct, QFunc, OutputQVar, QParam, QVar, repeat, PHASE\n",
    "from classiq import create_model, synthesize, show\n",
    "from typing import List\n",
    "\n",
    "@QStruct\n",
    "class MyStateStruct:\n",
    "#    S: str\n",
    "    c: List[float]\n",
    "\n",
    "@QFunc\n",
    "def foo(ms: QParam[MyStateStruct], qv: QVar[1]) -> None:\n",
    "    print(ms.c.len())\n",
    "    print(ms.c)\n",
    "    #for i in range(ms.c.len()):\n",
    "    #    print(ms.c[i])\n",
    "        \n",
    "@QFunc\n",
    "def my_stateprep(S: QParam[List[int]], c: QParam[List[float]]) -> None:\n",
    "    # make some checks\n",
    "    pass\n"
   ]
  },
  {
   "cell_type": "code",
   "execution_count": 56,
   "id": "0f9ec95d",
   "metadata": {},
   "outputs": [
    {
     "ename": "ClassiqAPIError",
     "evalue": "Error number 397403 occurred. Please try again later.\n\nError identifier: EC98FE8CD-A1CF-4BA2-9CEE-A3A4AE5D9515.\nIf you need further assistance, please reach out on our Community Slack channel at: https://short.classiq.io/join-slack\nIf the error persists feel free to open a ticket at: https://short.classiq.io/support",
     "output_type": "error",
     "traceback": [
      "\u001b[0;31m---------------------------------------------------------------------------\u001b[0m",
      "\u001b[0;31mClassiqAPIError\u001b[0m                           Traceback (most recent call last)",
      "Cell \u001b[0;32mIn[56], line 10\u001b[0m\n\u001b[1;32m      6\u001b[0m     my_stateprep(S\u001b[38;5;241m=\u001b[39m[\u001b[38;5;241m0b001\u001b[39m, \u001b[38;5;241m0b100\u001b[39m, \u001b[38;5;241m0b111\u001b[39m], c\u001b[38;5;241m=\u001b[39m[\u001b[38;5;241m0.1\u001b[39m, \u001b[38;5;241m0.2\u001b[39m, \u001b[38;5;241m0.3\u001b[39m])\n\u001b[1;32m      9\u001b[0m model \u001b[38;5;241m=\u001b[39m create_model(main)\n\u001b[0;32m---> 10\u001b[0m qprog \u001b[38;5;241m=\u001b[39m \u001b[43msynthesize\u001b[49m\u001b[43m(\u001b[49m\u001b[43mmodel\u001b[49m\u001b[43m)\u001b[49m\n\u001b[1;32m     11\u001b[0m show(qprog)\n",
      "File \u001b[0;32m~/.local/lib/python3.10/site-packages/classiq/_internals/async_utils.py:50\u001b[0m, in \u001b[0;36msyncify_function.<locals>.async_wrapper\u001b[0;34m(*args, **kwargs)\u001b[0m\n\u001b[1;32m     48\u001b[0m \u001b[38;5;129m@functools\u001b[39m\u001b[38;5;241m.\u001b[39mwraps(async_func)\n\u001b[1;32m     49\u001b[0m \u001b[38;5;28;01mdef\u001b[39;00m \u001b[38;5;21masync_wrapper\u001b[39m(\u001b[38;5;241m*\u001b[39margs: Any, \u001b[38;5;241m*\u001b[39m\u001b[38;5;241m*\u001b[39mkwargs: Any) \u001b[38;5;241m-\u001b[39m\u001b[38;5;241m>\u001b[39m T:\n\u001b[0;32m---> 50\u001b[0m     \u001b[38;5;28;01mreturn\u001b[39;00m \u001b[43mrun\u001b[49m\u001b[43m(\u001b[49m\u001b[43masync_func\u001b[49m\u001b[43m(\u001b[49m\u001b[38;5;241;43m*\u001b[39;49m\u001b[43margs\u001b[49m\u001b[43m,\u001b[49m\u001b[43m \u001b[49m\u001b[38;5;241;43m*\u001b[39;49m\u001b[38;5;241;43m*\u001b[39;49m\u001b[43mkwargs\u001b[49m\u001b[43m)\u001b[49m\u001b[43m)\u001b[49m\n",
      "File \u001b[0;32m~/.local/lib/python3.10/site-packages/classiq/_internals/async_utils.py:44\u001b[0m, in \u001b[0;36mrun\u001b[0;34m(coro)\u001b[0m\n\u001b[1;32m     39\u001b[0m \u001b[38;5;28;01mdef\u001b[39;00m \u001b[38;5;21mrun\u001b[39m(coro: Awaitable[T]) \u001b[38;5;241m-\u001b[39m\u001b[38;5;241m>\u001b[39m T:\n\u001b[1;32m     40\u001b[0m     \u001b[38;5;66;03m# Use this function instead of asyncio.run, since it ALWAYS\u001b[39;00m\n\u001b[1;32m     41\u001b[0m     \u001b[38;5;66;03m# creates a new event loop and clears the thread event loop.\u001b[39;00m\n\u001b[1;32m     42\u001b[0m     \u001b[38;5;66;03m# Never use asyncio.run in library code.\u001b[39;00m\n\u001b[1;32m     43\u001b[0m     loop \u001b[38;5;241m=\u001b[39m get_event_loop()\n\u001b[0;32m---> 44\u001b[0m     \u001b[38;5;28;01mreturn\u001b[39;00m \u001b[43mloop\u001b[49m\u001b[38;5;241;43m.\u001b[39;49m\u001b[43mrun_until_complete\u001b[49m\u001b[43m(\u001b[49m\u001b[43mcoro\u001b[49m\u001b[43m)\u001b[49m\n",
      "File \u001b[0;32m~/.local/lib/python3.10/site-packages/nest_asyncio.py:90\u001b[0m, in \u001b[0;36m_patch_loop.<locals>.run_until_complete\u001b[0;34m(self, future)\u001b[0m\n\u001b[1;32m     87\u001b[0m \u001b[38;5;28;01mif\u001b[39;00m \u001b[38;5;129;01mnot\u001b[39;00m f\u001b[38;5;241m.\u001b[39mdone():\n\u001b[1;32m     88\u001b[0m     \u001b[38;5;28;01mraise\u001b[39;00m \u001b[38;5;167;01mRuntimeError\u001b[39;00m(\n\u001b[1;32m     89\u001b[0m         \u001b[38;5;124m'\u001b[39m\u001b[38;5;124mEvent loop stopped before Future completed.\u001b[39m\u001b[38;5;124m'\u001b[39m)\n\u001b[0;32m---> 90\u001b[0m \u001b[38;5;28;01mreturn\u001b[39;00m \u001b[43mf\u001b[49m\u001b[38;5;241;43m.\u001b[39;49m\u001b[43mresult\u001b[49m\u001b[43m(\u001b[49m\u001b[43m)\u001b[49m\n",
      "File \u001b[0;32m/usr/lib/python3.10/asyncio/futures.py:201\u001b[0m, in \u001b[0;36mFuture.result\u001b[0;34m(self)\u001b[0m\n\u001b[1;32m    199\u001b[0m \u001b[38;5;28mself\u001b[39m\u001b[38;5;241m.\u001b[39m__log_traceback \u001b[38;5;241m=\u001b[39m \u001b[38;5;28;01mFalse\u001b[39;00m\n\u001b[1;32m    200\u001b[0m \u001b[38;5;28;01mif\u001b[39;00m \u001b[38;5;28mself\u001b[39m\u001b[38;5;241m.\u001b[39m_exception \u001b[38;5;129;01mis\u001b[39;00m \u001b[38;5;129;01mnot\u001b[39;00m \u001b[38;5;28;01mNone\u001b[39;00m:\n\u001b[0;32m--> 201\u001b[0m     \u001b[38;5;28;01mraise\u001b[39;00m \u001b[38;5;28mself\u001b[39m\u001b[38;5;241m.\u001b[39m_exception\u001b[38;5;241m.\u001b[39mwith_traceback(\u001b[38;5;28mself\u001b[39m\u001b[38;5;241m.\u001b[39m_exception_tb)\n\u001b[1;32m    202\u001b[0m \u001b[38;5;28;01mreturn\u001b[39;00m \u001b[38;5;28mself\u001b[39m\u001b[38;5;241m.\u001b[39m_result\n",
      "File \u001b[0;32m/usr/lib/python3.10/asyncio/tasks.py:232\u001b[0m, in \u001b[0;36mTask.__step\u001b[0;34m(***failed resolving arguments***)\u001b[0m\n\u001b[1;32m    228\u001b[0m \u001b[38;5;28;01mtry\u001b[39;00m:\n\u001b[1;32m    229\u001b[0m     \u001b[38;5;28;01mif\u001b[39;00m exc \u001b[38;5;129;01mis\u001b[39;00m \u001b[38;5;28;01mNone\u001b[39;00m:\n\u001b[1;32m    230\u001b[0m         \u001b[38;5;66;03m# We use the `send` method directly, because coroutines\u001b[39;00m\n\u001b[1;32m    231\u001b[0m         \u001b[38;5;66;03m# don't have `__iter__` and `__next__` methods.\u001b[39;00m\n\u001b[0;32m--> 232\u001b[0m         result \u001b[38;5;241m=\u001b[39m \u001b[43mcoro\u001b[49m\u001b[38;5;241;43m.\u001b[39;49m\u001b[43msend\u001b[49m\u001b[43m(\u001b[49m\u001b[38;5;28;43;01mNone\u001b[39;49;00m\u001b[43m)\u001b[49m\n\u001b[1;32m    233\u001b[0m     \u001b[38;5;28;01melse\u001b[39;00m:\n\u001b[1;32m    234\u001b[0m         result \u001b[38;5;241m=\u001b[39m coro\u001b[38;5;241m.\u001b[39mthrow(exc)\n",
      "File \u001b[0;32m~/.local/lib/python3.10/site-packages/classiq/synthesis.py:21\u001b[0m, in \u001b[0;36msynthesize_async\u001b[0;34m(serialized_model)\u001b[0m\n\u001b[1;32m     17\u001b[0m \u001b[38;5;28;01masync\u001b[39;00m \u001b[38;5;28;01mdef\u001b[39;00m \u001b[38;5;21msynthesize_async\u001b[39m(\n\u001b[1;32m     18\u001b[0m     serialized_model: SerializedModelInput,\n\u001b[1;32m     19\u001b[0m ) \u001b[38;5;241m-\u001b[39m\u001b[38;5;241m>\u001b[39m SerializedQuantumProgram:\n\u001b[1;32m     20\u001b[0m     model: ModelInput \u001b[38;5;241m=\u001b[39m pydantic\u001b[38;5;241m.\u001b[39mparse_raw_as(ModelInput, serialized_model)  \u001b[38;5;66;03m# type: ignore[arg-type]\u001b[39;00m\n\u001b[0;32m---> 21\u001b[0m     quantum_program \u001b[38;5;241m=\u001b[39m \u001b[38;5;28;01mawait\u001b[39;00m ApiWrapper\u001b[38;5;241m.\u001b[39mcall_generation_task(model)\n\u001b[1;32m     22\u001b[0m     \u001b[38;5;28;01mreturn\u001b[39;00m SerializedQuantumProgram(quantum_program\u001b[38;5;241m.\u001b[39mjson(indent\u001b[38;5;241m=\u001b[39m\u001b[38;5;241m2\u001b[39m))\n",
      "File \u001b[0;32m~/.local/lib/python3.10/site-packages/classiq/_internals/api_wrapper.py:94\u001b[0m, in \u001b[0;36mApiWrapper.call_generation_task\u001b[0;34m(cls, model)\u001b[0m\n\u001b[1;32m     92\u001b[0m poller \u001b[38;5;241m=\u001b[39m JobPoller(base_url\u001b[38;5;241m=\u001b[39mroutes\u001b[38;5;241m.\u001b[39mTASKS_GENERATE_FULL_PATH)\n\u001b[1;32m     93\u001b[0m result \u001b[38;5;241m=\u001b[39m \u001b[38;5;28;01mawait\u001b[39;00m poller\u001b[38;5;241m.\u001b[39mrun_pydantic(model, timeout_sec\u001b[38;5;241m=\u001b[39m\u001b[38;5;28;01mNone\u001b[39;00m)\n\u001b[0;32m---> 94\u001b[0m \u001b[38;5;28;01mreturn\u001b[39;00m \u001b[43m_parse_job_response_multiple_outputs\u001b[49m\u001b[43m(\u001b[49m\u001b[43mresult\u001b[49m\u001b[43m,\u001b[49m\u001b[43m \u001b[49m\u001b[43m_Circuit\u001b[49m\u001b[43m)\u001b[49m\n",
      "File \u001b[0;32m~/.local/lib/python3.10/site-packages/classiq/_internals/api_wrapper.py:60\u001b[0m, in \u001b[0;36m_parse_job_response_multiple_outputs\u001b[0;34m(job_result, output_type)\u001b[0m\n\u001b[1;32m     58\u001b[0m description \u001b[38;5;241m=\u001b[39m job_result\u001b[38;5;241m.\u001b[39mdescription\n\u001b[1;32m     59\u001b[0m \u001b[38;5;28;01mif\u001b[39;00m job_result\u001b[38;5;241m.\u001b[39mstatus \u001b[38;5;241m!=\u001b[39m JobStatus\u001b[38;5;241m.\u001b[39mCOMPLETED:\n\u001b[0;32m---> 60\u001b[0m     \u001b[38;5;28;01mraise\u001b[39;00m ClassiqAPIError(description[\u001b[38;5;124m\"\u001b[39m\u001b[38;5;124mdetails\u001b[39m\u001b[38;5;124m\"\u001b[39m])\n\u001b[1;32m     61\u001b[0m \u001b[38;5;28;01mreturn\u001b[39;00m parse_obj_as(output_type, description)\n",
      "\u001b[0;31mClassiqAPIError\u001b[0m: Error number 397403 occurred. Please try again later.\n\nError identifier: EC98FE8CD-A1CF-4BA2-9CEE-A3A4AE5D9515.\nIf you need further assistance, please reach out on our Community Slack channel at: https://short.classiq.io/join-slack\nIf the error persists feel free to open a ticket at: https://short.classiq.io/support"
     ]
    }
   ],
   "source": [
    "@QFunc\n",
    "def main(res: OutputQVar[1]) -> None:\n",
    "    allocate(1, res)\n",
    "    #foo(ms=MyStateStruct(S=[\"001\", \"100\", \"111\"], c=[0.1, 0.2, 0.3]), qv=res)\n",
    "    #foo(ms=MyStateStruct(c=[0.1, 0.2, 0.3]), qv=res)\n",
    "    my_stateprep(S=[0b001, 0b100, 0b111], c=[0.1, 0.2, 0.3])\n",
    "\n",
    "\n",
    "model = create_model(main)\n",
    "qprog = synthesize(model)\n",
    "show(qprog)"
   ]
  },
  {
   "cell_type": "code",
   "execution_count": 52,
   "id": "f1f9c1cb",
   "metadata": {},
   "outputs": [
    {
     "ename": "NameError",
     "evalue": "name 'qprog' is not defined",
     "output_type": "error",
     "traceback": [
      "\u001b[0;31m---------------------------------------------------------------------------\u001b[0m",
      "\u001b[0;31mNameError\u001b[0m                                 Traceback (most recent call last)",
      "Cell \u001b[0;32mIn[52], line 5\u001b[0m\n\u001b[1;32m      2\u001b[0m \u001b[38;5;28;01mfrom\u001b[39;00m \u001b[38;5;21;01mclassiq\u001b[39;00m \u001b[38;5;28;01mimport\u001b[39;00m execute\n\u001b[1;32m      3\u001b[0m \u001b[38;5;28;01mfrom\u001b[39;00m \u001b[38;5;21;01mclassiq\u001b[39;00m\u001b[38;5;21;01m.\u001b[39;00m\u001b[38;5;21;01mexecution\u001b[39;00m \u001b[38;5;28;01mimport\u001b[39;00m ExecutionDetails\n\u001b[0;32m----> 5\u001b[0m results_raw \u001b[38;5;241m=\u001b[39m execute(\u001b[43mqprog\u001b[49m)\u001b[38;5;241m.\u001b[39mresult()\n\u001b[1;32m      7\u001b[0m results \u001b[38;5;241m=\u001b[39m results_raw[\u001b[38;5;241m0\u001b[39m]\u001b[38;5;241m.\u001b[39mvalue\n\u001b[1;32m      8\u001b[0m \u001b[38;5;28mprint\u001b[39m(results\u001b[38;5;241m.\u001b[39mcounts)\n",
      "\u001b[0;31mNameError\u001b[0m: name 'qprog' is not defined"
     ]
    }
   ],
   "source": [
    "#execute\n",
    "from classiq import execute\n",
    "from classiq.execution import ExecutionDetails\n",
    "\n",
    "results_raw = execute(qprog).result()\n",
    "\n",
    "results = results_raw[0].value\n",
    "print(results.counts)"
   ]
  },
  {
   "cell_type": "code",
   "execution_count": null,
   "id": "d2b44fa6",
   "metadata": {},
   "outputs": [],
   "source": []
  }
 ],
 "metadata": {
  "kernelspec": {
   "display_name": "Python 3 (ipykernel)",
   "language": "python",
   "name": "python3"
  },
  "language_info": {
   "codemirror_mode": {
    "name": "ipython",
    "version": 3
   },
   "file_extension": ".py",
   "mimetype": "text/x-python",
   "name": "python",
   "nbconvert_exporter": "python",
   "pygments_lexer": "ipython3",
   "version": "3.10.12"
  }
 },
 "nbformat": 4,
 "nbformat_minor": 5
}
