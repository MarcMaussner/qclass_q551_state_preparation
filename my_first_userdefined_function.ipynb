{
 "cells": [
  {
   "cell_type": "markdown",
   "id": "9e6714ff",
   "metadata": {},
   "source": [
    "# My first user defined function as in user manual"
   ]
  },
  {
   "cell_type": "code",
   "execution_count": 4,
   "id": "53782e4e",
   "metadata": {},
   "outputs": [
    {
     "name": "stdout",
     "output_type": "stream",
     "text": [
      "Opening: https://platform.classiq.io/circuit/83eda9dd-b681-43dd-a16b-83697d895952?version=0.29.2\n"
     ]
    }
   ],
   "source": [
    "from typing import Tuple\n",
    "from classiq import Model, qfunc, QReg, ZeroQReg, QASM_INTRO, synthesize, show\n",
    "from classiq import FunctionLibrary\n",
    "\n",
    "\n",
    "@qfunc\n",
    "def init_one_qubit_to_1(zero_input: ZeroQReg[1]) -> QReg[1]:\n",
    "    return QASM_INTRO + \"qreg q[1];\\nx q[0];\"\n",
    "\n",
    "\n",
    "@qfunc\n",
    "def my_controlled_not_gate(\n",
    "    control: QReg[1], target: QReg[1]\n",
    ") -> Tuple[QReg[1], QReg[1]]:\n",
    "    return QASM_INTRO + \"qreg q[2];\\ncx q[0], q[1];\"\n",
    "\n",
    "# add our functions to function library\n",
    "function_library = FunctionLibrary(init_one_qubit_to_1)\n",
    "function_library = FunctionLibrary(my_controlled_not_gate)\n",
    "\n",
    "model = Model()\n",
    "\n",
    "control = model.apply(init_one_qubit_to_1)[\"zero_input\"] # named inputs\n",
    "model.apply(my_controlled_not_gate, in_wires={\"control\": control})\n",
    "\n",
    "quantum_program = synthesize(model.get_model())\n",
    "show(quantum_program)"
   ]
  },
  {
   "cell_type": "markdown",
   "id": "4b50f462",
   "metadata": {},
   "source": [
    "## try inverse"
   ]
  },
  {
   "cell_type": "code",
   "execution_count": 13,
   "id": "de79846c",
   "metadata": {},
   "outputs": [],
   "source": [
    "from classiq import QStruct, QFunc, OutputQVar, QParam, QVar, repeat, PHASE, allocate, H\n",
    "from classiq import create_model, synthesize, show\n",
    "from typing import List"
   ]
  },
  {
   "cell_type": "code",
   "execution_count": 30,
   "id": "5a05436d",
   "metadata": {},
   "outputs": [],
   "source": [
    "@QFunc\n",
    "def my_stateprep(S: QParam[int], qbv: QVar[2]) -> None:\n",
    "    # make some checks\n",
    "    H(target=qbv[0])\n",
    "    #invert\n",
    "    \n",
    "    "
   ]
  },
  {
   "cell_type": "code",
   "execution_count": 31,
   "id": "db7ee265",
   "metadata": {},
   "outputs": [
    {
     "name": "stdout",
     "output_type": "stream",
     "text": [
      "None\n"
     ]
    }
   ],
   "source": [
    "@QFunc\n",
    "def main() -> None:\n",
    "    qbv = QVar(\"qbv\")\n",
    "    allocate(2, qbv)\n",
    "    my_stateprep(S=10, qbv=qbv)\n",
    "\n",
    "\n",
    "model = create_model(main)\n",
    "qprog = synthesize(model)\n",
    "#show(qprog)"
   ]
  },
  {
   "cell_type": "code",
   "execution_count": 38,
   "id": "18161dc1",
   "metadata": {},
   "outputs": [],
   "source": [
    "# set backend and shots\n",
    "\n",
    "from classiq.execution import IBMBackendPreferences\n",
    "from classiq import set_preferences\n",
    "\n",
    "preferences = IBMBackendPreferences(backend_name=\"aer_simulator_statevector\")\n",
    "\n",
    "from classiq import set_execution_preferences\n",
    "from classiq.execution import ExecutionPreferences\n",
    "\n",
    "# Define execution preferences\n",
    "execution_preferences = ExecutionPreferences(\n",
    "    num_shots=1000\n",
    ")  # set your real preferences instead!\n",
    "\n",
    "# Set the execution preferences\n",
    "model = set_execution_preferences(model, execution_preferences)\n",
    "model = set_preferences(model, preferences)\n",
    "\n",
    "qprog = synthesize(model)"
   ]
  },
  {
   "cell_type": "code",
   "execution_count": 39,
   "id": "764b5e7d",
   "metadata": {},
   "outputs": [
    {
     "name": "stdout",
     "output_type": "stream",
     "text": [
      "{'00': 1000}\n"
     ]
    }
   ],
   "source": [
    "#execute\n",
    "from classiq import execute\n",
    "from classiq.execution import ExecutionDetails\n",
    "\n",
    "results_raw = execute(qprog).result()\n",
    "\n",
    "results = results_raw[0].value\n",
    "print(results.counts)"
   ]
  },
  {
   "cell_type": "code",
   "execution_count": 29,
   "id": "f39927ef",
   "metadata": {},
   "outputs": [
    {
     "name": "stdout",
     "output_type": "stream",
     "text": [
      "depth =  1\n"
     ]
    }
   ],
   "source": [
    "from classiq import GeneratedCircuit\n",
    "\n",
    "circuit_qprog = GeneratedCircuit.from_qprog(qprog)\n",
    "print(\"depth = \", circuit_qprog.transpiled_circuit.depth)"
   ]
  },
  {
   "cell_type": "code",
   "execution_count": null,
   "id": "621bf372",
   "metadata": {},
   "outputs": [],
   "source": []
  }
 ],
 "metadata": {
  "kernelspec": {
   "display_name": "Python 3 (ipykernel)",
   "language": "python",
   "name": "python3"
  },
  "language_info": {
   "codemirror_mode": {
    "name": "ipython",
    "version": 3
   },
   "file_extension": ".py",
   "mimetype": "text/x-python",
   "name": "python",
   "nbconvert_exporter": "python",
   "pygments_lexer": "ipython3",
   "version": "3.10.12"
  }
 },
 "nbformat": 4,
 "nbformat_minor": 5
}
